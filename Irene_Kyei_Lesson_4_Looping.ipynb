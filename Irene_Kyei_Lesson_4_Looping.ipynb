{
  "nbformat": 4,
  "nbformat_minor": 0,
  "metadata": {
    "colab": {
      "name": "Irene Kyei_Lesson 4-Looping",
      "provenance": [],
      "collapsed_sections": [],
      "authorship_tag": "ABX9TyMxs1EieftCsEOn1Cum2hBP",
      "include_colab_link": true
    },
    "kernelspec": {
      "name": "python3",
      "display_name": "Python 3"
    },
    "language_info": {
      "name": "python"
    }
  },
  "cells": [
    {
      "cell_type": "markdown",
      "metadata": {
        "id": "view-in-github",
        "colab_type": "text"
      },
      "source": [
        "<a href=\"https://colab.research.google.com/github/Irene-Chay/microcredentials_winter_Python/blob/Python/Irene_Kyei_Lesson_4_Looping.ipynb\" target=\"_parent\"><img src=\"https://colab.research.google.com/assets/colab-badge.svg\" alt=\"Open In Colab\"/></a>"
      ]
    },
    {
      "cell_type": "markdown",
      "source": [
        "Lesson 4 - Looping"
      ],
      "metadata": {
        "id": "t0B1UVq7lMBV"
      }
    },
    {
      "cell_type": "markdown",
      "source": [
        "1. Create a list that holds 5 data variables."
      ],
      "metadata": {
        "id": "kp8A_s_7lfse"
      }
    },
    {
      "cell_type": "code",
      "execution_count": 6,
      "metadata": {
        "id": "GmsrrqiqlEgy"
      },
      "outputs": [],
      "source": [
        "shoppinglist=['chicken', 'vegetables', 'rice', 'cranberrymix', 'tissue']"
      ]
    },
    {
      "cell_type": "markdown",
      "source": [
        "2. Print out those variables by using a 'for' loop."
      ],
      "metadata": {
        "id": "ErQO_ZYSluco"
      }
    },
    {
      "cell_type": "code",
      "source": [
        "for list in shoppinglist:\n",
        "  print(list)"
      ],
      "metadata": {
        "colab": {
          "base_uri": "https://localhost:8080/"
        },
        "id": "9E0S3ucCoCWw",
        "outputId": "41181f3e-a368-4378-e157-2fa9f09614bb"
      },
      "execution_count": 5,
      "outputs": [
        {
          "output_type": "stream",
          "name": "stdout",
          "text": [
            "chicken\n",
            "vegetables\n",
            "rice\n",
            "cranberrymix\n",
            "tissue\n"
          ]
        }
      ]
    },
    {
      "cell_type": "markdown",
      "source": [
        "3. Modify your for loop to add a message to your for loop."
      ],
      "metadata": {
        "id": "YE7qv-YPl0oS"
      }
    },
    {
      "cell_type": "code",
      "source": [
        "for list in shoppinglist:\n",
        "  print(list.title()+' is becoming expensive!')"
      ],
      "metadata": {
        "colab": {
          "base_uri": "https://localhost:8080/"
        },
        "id": "Htkpl5ibofY7",
        "outputId": "55056070-7df4-47c1-da72-dfcae10f02a2"
      },
      "execution_count": 10,
      "outputs": [
        {
          "output_type": "stream",
          "name": "stdout",
          "text": [
            "Chicken is becoming expensive!\n",
            "Vegetables is becoming expensive!\n",
            "Rice is becoming expensive!\n",
            "Cranberrymix is becoming expensive!\n",
            "Tissue is becoming expensive!\n"
          ]
        }
      ]
    },
    {
      "cell_type": "code",
      "source": [
        "for list in shoppinglist:\n",
        "  print(list.title()+' is becoming expensive!\\n No wonder '+list.lower()+' is out of stock.\\n')"
      ],
      "metadata": {
        "colab": {
          "base_uri": "https://localhost:8080/"
        },
        "id": "aeBgt5d_pehr",
        "outputId": "c9e082e0-0496-49fb-a8a8-d72dfafbc125"
      },
      "execution_count": 12,
      "outputs": [
        {
          "output_type": "stream",
          "name": "stdout",
          "text": [
            "Chicken is becoming expensive!\n",
            " No wonder chicken is out of stock.\n",
            "\n",
            "Vegetables is becoming expensive!\n",
            " No wonder vegetables is out of stock.\n",
            "\n",
            "Rice is becoming expensive!\n",
            " No wonder rice is out of stock.\n",
            "\n",
            "Cranberrymix is becoming expensive!\n",
            " No wonder cranberrymix is out of stock.\n",
            "\n",
            "Tissue is becoming expensive!\n",
            " No wonder tissue is out of stock.\n",
            "\n"
          ]
        }
      ]
    },
    {
      "cell_type": "markdown",
      "source": [
        "4. Use a for loop to print even numbers from 1-20."
      ],
      "metadata": {
        "id": "HNQa-IZFl7zH"
      }
    },
    {
      "cell_type": "code",
      "source": [
        "for numbers in range (2,21, 2):\n",
        "  print(numbers)\n",
        "#numbers = list(range(1,21))\n",
        "#print(numbers)"
      ],
      "metadata": {
        "colab": {
          "base_uri": "https://localhost:8080/"
        },
        "id": "4PjAcYmTrkD4",
        "outputId": "b9b0229d-4422-4185-a681-f9de6e86b358"
      },
      "execution_count": 25,
      "outputs": [
        {
          "output_type": "stream",
          "name": "stdout",
          "text": [
            "2\n",
            "4\n",
            "6\n",
            "8\n",
            "10\n",
            "12\n",
            "14\n",
            "16\n",
            "18\n",
            "20\n"
          ]
        }
      ]
    },
    {
      "cell_type": "markdown",
      "source": [
        "5. Sort your list in alphabetic order."
      ],
      "metadata": {
        "id": "nA6iJxD-mC1n"
      }
    },
    {
      "cell_type": "code",
      "source": [
        "shoppinglist.sort()\n",
        "print(shoppinglist)"
      ],
      "metadata": {
        "colab": {
          "base_uri": "https://localhost:8080/"
        },
        "id": "9Rir5LdOuE9P",
        "outputId": "38b72ab1-cab8-46af-99e5-8d1aabab9ad3"
      },
      "execution_count": 26,
      "outputs": [
        {
          "output_type": "stream",
          "name": "stdout",
          "text": [
            "['chicken', 'cranberrymix', 'rice', 'tissue', 'vegetables']\n"
          ]
        }
      ]
    },
    {
      "cell_type": "markdown",
      "source": [
        "6. Print out the first three elements of your list."
      ],
      "metadata": {
        "id": "Z6YGrDdOmH4Z"
      }
    },
    {
      "cell_type": "code",
      "source": [
        "print(shoppinglist[0])\n",
        "print(shoppinglist[1])\n",
        "print(shoppinglist[2])"
      ],
      "metadata": {
        "colab": {
          "base_uri": "https://localhost:8080/"
        },
        "id": "fEQM6xGUuqR8",
        "outputId": "c241c6ab-ac3d-4657-eb85-09fd244f0e69"
      },
      "execution_count": 32,
      "outputs": [
        {
          "output_type": "stream",
          "name": "stdout",
          "text": [
            "chicken\n",
            "cranberrymix\n",
            "rice\n"
          ]
        }
      ]
    },
    {
      "cell_type": "code",
      "source": [
        "     #OR\n",
        "print(shoppinglist[0:3])\n",
        "#Also\n",
        "print(shoppinglist[:3])"
      ],
      "metadata": {
        "colab": {
          "base_uri": "https://localhost:8080/"
        },
        "id": "6g8JPX0ZzV6Z",
        "outputId": "d7d00327-2f9c-4ce9-8682-2f92e0c80106"
      },
      "execution_count": 35,
      "outputs": [
        {
          "output_type": "stream",
          "name": "stdout",
          "text": [
            "['chicken', 'cranberrymix', 'rice']\n",
            "['chicken', 'cranberrymix', 'rice']\n"
          ]
        }
      ]
    },
    {
      "cell_type": "code",
      "source": [
        "      #OR\n",
        "n=3\n",
        "new_shoppinglist=[]\n",
        "for index in range(0,3):\n",
        "  new_shoppinglist.append(shoppinglist[index])\n",
        "print(shoppinglist)\n",
        "print(new_shoppinglist)"
      ],
      "metadata": {
        "colab": {
          "base_uri": "https://localhost:8080/"
        },
        "id": "PgzixMPMx8WD",
        "outputId": "92c16427-21ac-42e1-a601-bb3af104266c"
      },
      "execution_count": 33,
      "outputs": [
        {
          "output_type": "stream",
          "name": "stdout",
          "text": [
            "['chicken', 'cranberrymix', 'rice', 'tissue', 'vegetables']\n",
            "['chicken', 'cranberrymix', 'rice']\n"
          ]
        }
      ]
    },
    {
      "cell_type": "markdown",
      "source": [
        "7. Create a loop to print the last 2 elements of your list."
      ],
      "metadata": {
        "id": "fkVn9lEWmONS"
      }
    },
    {
      "cell_type": "code",
      "source": [
        "print(shoppinglist[3:])\n",
        "#Also\n",
        "print(shoppinglist[-2:])"
      ],
      "metadata": {
        "colab": {
          "base_uri": "https://localhost:8080/"
        },
        "id": "m8zz0kimz5j1",
        "outputId": "db3b43f2-1b7e-4ad2-a16d-262ef6a02f28"
      },
      "execution_count": 37,
      "outputs": [
        {
          "output_type": "stream",
          "name": "stdout",
          "text": [
            "['tissue', 'vegetables']\n",
            "['tissue', 'vegetables']\n"
          ]
        }
      ]
    },
    {
      "cell_type": "code",
      "source": [
        "    #OR\n",
        "n=3\n",
        "new_shoppinglist=[]\n",
        "for index in range(3,5):\n",
        "  new_shoppinglist.append(shoppinglist[index])\n",
        "print(shoppinglist)\n",
        "print(new_shoppinglist)"
      ],
      "metadata": {
        "colab": {
          "base_uri": "https://localhost:8080/"
        },
        "id": "m9A9Clyo0TJT",
        "outputId": "dd2a9e6e-b393-4ef1-cfd1-f0dbefce2107"
      },
      "execution_count": 38,
      "outputs": [
        {
          "output_type": "stream",
          "name": "stdout",
          "text": [
            "['chicken', 'cranberrymix', 'rice', 'tissue', 'vegetables']\n",
            "['tissue', 'vegetables']\n"
          ]
        }
      ]
    },
    {
      "cell_type": "markdown",
      "source": [
        ""
      ],
      "metadata": {
        "id": "sImAc_HnlGFW"
      }
    }
  ]
}