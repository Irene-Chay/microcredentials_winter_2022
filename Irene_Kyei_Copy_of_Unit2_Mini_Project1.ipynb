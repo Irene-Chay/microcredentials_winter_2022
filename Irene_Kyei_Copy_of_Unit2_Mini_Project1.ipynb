{
  "nbformat": 4,
  "nbformat_minor": 0,
  "metadata": {
    "colab": {
      "name": "Irene Kyei_Copy of Unit2_Mini_Project1.ipynb",
      "provenance": [],
      "collapsed_sections": [],
      "toc_visible": true,
      "include_colab_link": true
    },
    "kernelspec": {
      "name": "python3",
      "display_name": "Python 3"
    }
  },
  "cells": [
    {
      "cell_type": "markdown",
      "metadata": {
        "id": "view-in-github",
        "colab_type": "text"
      },
      "source": [
        "<a href=\"https://colab.research.google.com/github/IreneKyei/EverUp_Microcredentials_winter_2022/blob/Python/Irene_Kyei_Copy_of_Unit2_Mini_Project1.ipynb\" target=\"_parent\"><img src=\"https://colab.research.google.com/assets/colab-badge.svg\" alt=\"Open In Colab\"/></a>"
      ]
    },
    {
      "cell_type": "markdown",
      "metadata": {
        "id": "Vgs8Kp4TidFQ"
      },
      "source": [
        "# Intrdouction to Python - Mini Project"
      ]
    },
    {
      "cell_type": "markdown",
      "metadata": {
        "id": "_Hq7Ny79iwgD"
      },
      "source": [
        "#Python Project – Odd or Even\n",
        "\n",
        "Ask the user for a number. Depending on whether the number is even or odd, print out an appropriate message to the user. Hint: how does an even / odd number react differently when divided by 2?\n"
      ]
    },
    {
      "cell_type": "code",
      "metadata": {
        "id": "lotvpVpvlKsR",
        "colab": {
          "base_uri": "https://localhost:8080/"
        },
        "outputId": "c19c776e-8dd6-4946-8421-8e474cc969ee"
      },
      "source": [
        "#def inputNumber():\n",
        "while True:\n",
        "  try:\n",
        "      userInput=int(input('Please enter a number or press 0 to quit'))\n",
        "  except ValueError:\n",
        "      print(\"That is not a number! Try again.\")\n",
        "      continue\n",
        "  if userInput % 2 ==0:\n",
        "    print(format(userInput), 'is an even number.')\n",
        "  else:\n",
        "    print(format(userInput), 'is an odd number.')\n",
        "\n",
        "  if userInput == 0:\n",
        "    print('The End!')\n",
        "    break"
      ],
      "execution_count": 2,
      "outputs": [
        {
          "output_type": "stream",
          "name": "stdout",
          "text": [
            "Please enter a number or press 0 to quit9\n",
            "9 is an odd number.\n",
            "Please enter a number or press 0 to quit0\n",
            "0 is an even number.\n",
            "The End!\n"
          ]
        }
      ]
    },
    {
      "cell_type": "markdown",
      "source": [
        "# Bonus\n",
        "1. If the number is a multiple of 4, print out a different message.\n",
        "\n",
        "2. Ask the user for two numbers: one number to check (call it num) and one number to divide by (check). If check divides evenly into num, tell that to the user. If not, print a different appropriate message."
      ],
      "metadata": {
        "id": "TsZkCZTknlNw"
      }
    },
    {
      "cell_type": "code",
      "metadata": {
        "id": "vs8ppR-wlSKL",
        "outputId": "fe70773e-3806-4cbe-d9ce-c45a0e3e9ae1",
        "colab": {
          "base_uri": "https://localhost:8080/"
        }
      },
      "source": [
        "while True:\n",
        "  print('Is your first number divible by the second number? Let us find out!')\n",
        "  number1 = input('Enter your first number...')\n",
        "  number2 = input('Enter your second number...')\n",
        "\n",
        "  if int(number1) % 2 == 0:\n",
        "    print('Your first number is an Even number.')\n",
        "  elif int(number1) % 4 == 0:\n",
        "    print('Your first number is an Even number and a multiple of 4.')\n",
        "  else:\n",
        "    print('Your first number is an Odd number.')\n",
        "\n",
        "  if int(number1) % int(number2) == 0:\n",
        "    print(number1 + ' is evenly divible by ' + number2 + '.')\n",
        "    break #place a hashtag to disable loop break\n",
        "  else:\n",
        "    print(number1 + ' is not evenly divible by ' + number2 + '.')\n",
        "    break #place a hashtag to disable loop break\n"
      ],
      "execution_count": 7,
      "outputs": [
        {
          "output_type": "stream",
          "name": "stdout",
          "text": [
            "Is your first number divible by the second number? Let us find out!\n",
            "Enter your first number...9\n",
            "Enter your second number...3\n",
            "Your first number is an Odd number.\n",
            "9 is evenly divible by 3.\n"
          ]
        }
      ]
    },
    {
      "cell_type": "markdown",
      "source": [
        "Bonus: 2nd Option"
      ],
      "metadata": {
        "id": "iDozhQdstF3w"
      }
    },
    {
      "cell_type": "code",
      "metadata": {
        "id": "6000qDkVnuxM",
        "colab": {
          "base_uri": "https://localhost:8080/"
        },
        "outputId": "9490cfe5-a696-4fa7-a10f-0013e8e44776"
      },
      "source": [
        "#2nd option\n",
        "#bonus\n",
        "#def main():\n",
        "while True:\n",
        "  def main():\n",
        "    number = find_number()\n",
        "    if(number % 2 == 0):\n",
        "      print('Even number.')\n",
        "    if (number % 4 == 0):\n",
        "      print('Even number and a multiple of 4.')\n",
        "    else:\n",
        "      print('Odd number.')\n",
        "    number1, number2 = find_number(), find_number()\n",
        "    if (number1 % number2 == 0):\n",
        "      print('{} is evenly divisible by {}'.format(number1,number2))\n",
        "    else:\n",
        "      print('{} is not evenly divible by {}'.format(number1,number2))\n",
        "  def find_number():\n",
        "      return int(input('Please enter a number...'))\n",
        "  main()\n",
        "  break #place a hashtag to disable loop break"
      ],
      "execution_count": 13,
      "outputs": [
        {
          "output_type": "stream",
          "name": "stdout",
          "text": [
            "Please enter a number...8\n",
            "Even number.\n",
            "Even number and a multiple of 4.\n",
            "Please enter a number...4\n",
            "Please enter a number...6\n",
            "4 is not evenly divible by 6\n"
          ]
        }
      ]
    }
  ]
}