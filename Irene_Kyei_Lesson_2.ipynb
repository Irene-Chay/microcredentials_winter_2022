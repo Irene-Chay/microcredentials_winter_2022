{
  "nbformat": 4,
  "nbformat_minor": 0,
  "metadata": {
    "colab": {
      "name": "Irene Kyei_Lesson 2",
      "provenance": [],
      "collapsed_sections": [],
      "authorship_tag": "ABX9TyM5mI5hGsCm3zKe1f+xcD8u",
      "include_colab_link": true
    },
    "kernelspec": {
      "name": "python3",
      "display_name": "Python 3"
    },
    "language_info": {
      "name": "python"
    }
  },
  "cells": [
    {
      "cell_type": "markdown",
      "metadata": {
        "id": "view-in-github",
        "colab_type": "text"
      },
      "source": [
        "<a href=\"https://colab.research.google.com/github/Irene-Chay/microcredentials_winter_Python/blob/Python/Irene_Kyei_Lesson_2.ipynb\" target=\"_parent\"><img src=\"https://colab.research.google.com/assets/colab-badge.svg\" alt=\"Open In Colab\"/></a>"
      ]
    },
    {
      "cell_type": "markdown",
      "source": [
        "Lesson 2- Python"
      ],
      "metadata": {
        "id": "eV4MpmhFOK5e"
      }
    },
    {
      "cell_type": "markdown",
      "source": [
        "1. What is Python and why is it useful?\n",
        "\n",
        "Answer: Python is a general purpose, interpreted, interactive, object-oriented, and a high-level programming language.\n",
        "\n",
        "\n",
        "Python is useful beacause:\n",
        "a. It can work on very large datasets with ease.\n",
        "b. It can perform complex operations- from machine learning to web development.\n",
        "Python's code can be saved and re-run- making processes automated and a huge time saver."
      ],
      "metadata": {
        "id": "DUzkniz4OXnV"
      }
    },
    {
      "cell_type": "markdown",
      "source": [
        "2. Are the following variable names allowed in python?"
      ],
      "metadata": {
        "id": "JAMzravNOq6p"
      }
    },
    {
      "cell_type": "code",
      "execution_count": null,
      "metadata": {
        "colab": {
          "base_uri": "https://localhost:8080/"
        },
        "id": "hX0ts48A1gsC",
        "outputId": "6f589be7-9bbf-4d67-9857-9a3f81ccdeb1"
      },
      "outputs": [
        {
          "output_type": "stream",
          "name": "stdout",
          "text": [
            "hello\n",
            "hi\n",
            "Irene Kyei\n"
          ]
        }
      ],
      "source": [
        "#a.\n",
        "#1_message='hello'         #not allowed\n",
        "#print(1_message)\n",
        "#b\n",
        "Greeting_message='hello'   #allowed\n",
        "print(Greeting_message)\n",
        "#c\n",
        "Message_1='hi'             #allowed\n",
        "print(Message_1)\n",
        "#d\n",
        "#First name='Reena'        #not allowed\n",
        "#print(First name)\n",
        "#e\n",
        "Full_name='Irene Kyei'     #allowed\n",
        "print(Full_name)"
      ]
    },
    {
      "cell_type": "markdown",
      "source": [
        "3. Create a variable that holds the string \"hello there\"."
      ],
      "metadata": {
        "id": "lFHJF-k8QsoY"
      }
    },
    {
      "cell_type": "code",
      "source": [
        "greetings=\"hello there\"\n",
        "print(greetings)"
      ],
      "metadata": {
        "colab": {
          "base_uri": "https://localhost:8080/"
        },
        "id": "ebSqJcgPQ-A_",
        "outputId": "2103677c-da7a-427d-e74d-0fa6aeba0ba6"
      },
      "execution_count": null,
      "outputs": [
        {
          "output_type": "stream",
          "name": "stdout",
          "text": [
            "hello there\n"
          ]
        }
      ]
    },
    {
      "cell_type": "markdown",
      "source": [
        "4. Create a variable for the first name, last name and an email extension. Concatenating all three together to form an email address. For example: firstnamelastname@gmail.com."
      ],
      "metadata": {
        "id": "TYhYX3yqR74-"
      }
    },
    {
      "cell_type": "code",
      "source": [
        "firstname='Bob'\n",
        "lastname='Skinny'\n",
        "ext='@gmail.com'\n",
        "print(firstname+lastname+ext)"
      ],
      "metadata": {
        "colab": {
          "base_uri": "https://localhost:8080/"
        },
        "id": "eaFS6INNSVuB",
        "outputId": "029c5410-fca0-4756-84be-f77309b25790"
      },
      "execution_count": null,
      "outputs": [
        {
          "output_type": "stream",
          "name": "stdout",
          "text": [
            "BobSkinny@gmail.com\n"
          ]
        }
      ]
    },
    {
      "cell_type": "markdown",
      "source": [
        "5. Stire someone you know's name in a variable called name. Print their name in lower and uppercase using a method."
      ],
      "metadata": {
        "id": "LluVD0qoTaZ-"
      }
    },
    {
      "cell_type": "code",
      "source": [
        "name='Lauren Crawford'\n",
        "print(name.upper())\n",
        "print(name.lower())"
      ],
      "metadata": {
        "colab": {
          "base_uri": "https://localhost:8080/"
        },
        "id": "ZhhLlVgCTqF6",
        "outputId": "13c99d4a-bca8-4932-8757-4923a7ebaec4"
      },
      "execution_count": null,
      "outputs": [
        {
          "output_type": "stream",
          "name": "stdout",
          "text": [
            "LAUREN CRAWFORD\n",
            "lauren crawford\n"
          ]
        }
      ]
    },
    {
      "cell_type": "markdown",
      "source": [
        "6. Using a variable, ask your friend if they want to hang out on the 15th of the month. For example, \"Do you want to hang out on the 15th of this month?\". You should have to convert the number to a string."
      ],
      "metadata": {
        "id": "salqj5ttT3tC"
      }
    },
    {
      "cell_type": "code",
      "source": [
        "name='Alex'\n",
        "date='15th'\n",
        "print('Hey '+name+', do you want to hang out on the '+date+' of this month?')"
      ],
      "metadata": {
        "colab": {
          "base_uri": "https://localhost:8080/"
        },
        "id": "q0XLy3hVUSPA",
        "outputId": "96b9db1c-8899-42d6-cb78-7d0d47b3b462"
      },
      "execution_count": null,
      "outputs": [
        {
          "output_type": "stream",
          "name": "stdout",
          "text": [
            "Hey Alex, do you want to hang out on the 15th of this month?\n"
          ]
        }
      ]
    }
  ]
}