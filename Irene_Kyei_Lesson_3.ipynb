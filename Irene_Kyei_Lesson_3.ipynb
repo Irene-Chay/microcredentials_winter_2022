{
  "nbformat": 4,
  "nbformat_minor": 0,
  "metadata": {
    "colab": {
      "name": "Irene Kyei_Lesson 3",
      "provenance": [],
      "collapsed_sections": [],
      "authorship_tag": "ABX9TyNlbT2pTwQHgEPnJ++s7pFB",
      "include_colab_link": true
    },
    "kernelspec": {
      "name": "python3",
      "display_name": "Python 3"
    },
    "language_info": {
      "name": "python"
    }
  },
  "cells": [
    {
      "cell_type": "markdown",
      "metadata": {
        "id": "view-in-github",
        "colab_type": "text"
      },
      "source": [
        "<a href=\"https://colab.research.google.com/github/Irene-Chay/microcredentials_winter_2022/blob/Python/Irene_Kyei_Lesson_3.ipynb\" target=\"_parent\"><img src=\"https://colab.research.google.com/assets/colab-badge.svg\" alt=\"Open In Colab\"/></a>"
      ]
    },
    {
      "cell_type": "markdown",
      "source": [
        "Lesson 3"
      ],
      "metadata": {
        "id": "xg4tTmsLGKQ4"
      }
    },
    {
      "cell_type": "markdown",
      "source": [
        "1. Create a list of 5 of your favorite tv shows."
      ],
      "metadata": {
        "id": "LyORKG5yGJbX"
      }
    },
    {
      "cell_type": "code",
      "source": [
        "showlist=['Boys over flowers', 'All the Queens Men', 'Jhansi Ki Rani', 'Jhoda Akbar', 'The Good Doctor']"
      ],
      "metadata": {
        "id": "K8GcTa2NG3Mp"
      },
      "execution_count": 5,
      "outputs": []
    },
    {
      "cell_type": "markdown",
      "source": [
        "2. Print the list in its original order."
      ],
      "metadata": {
        "id": "0mQ6x4V4GT-t"
      }
    },
    {
      "cell_type": "code",
      "source": [
        "print(showlist)"
      ],
      "metadata": {
        "colab": {
          "base_uri": "https://localhost:8080/"
        },
        "id": "EDPmZiFIG7tG",
        "outputId": "c016ac88-a6e6-43ec-8df6-e15a737bc183"
      },
      "execution_count": 6,
      "outputs": [
        {
          "output_type": "stream",
          "name": "stdout",
          "text": [
            "['Boys over flowers', 'All the Queens Men', 'Jhansi Ki Rani', 'Jhoda Akbar', 'The Good Doctor']\n"
          ]
        }
      ]
    },
    {
      "cell_type": "markdown",
      "source": [
        "3. Use the sorted()function to print the list in alphabetical order. How is sorted() different from sort()?"
      ],
      "metadata": {
        "id": "ZFKg7Tj6GXwU"
      }
    },
    {
      "cell_type": "code",
      "source": [
        "print(sorted(showlist))   #arranges the elements temporarily in an alphabetical order\n",
        "print(showlist)\n",
        "#sort() permanently arranges the list."
      ],
      "metadata": {
        "colab": {
          "base_uri": "https://localhost:8080/"
        },
        "id": "U2zrk-uHHMYC",
        "outputId": "cadc6d67-e326-4489-ac1e-67d86b53584e"
      },
      "execution_count": 9,
      "outputs": [
        {
          "output_type": "stream",
          "name": "stdout",
          "text": [
            "['All the Queens Men', 'Boys over flowers', 'Jhansi Ki Rani', 'Jhoda Akbar', 'The Good Doctor']\n",
            "['Boys over flowers', 'All the Queens Men', 'Jhansi Ki Rani', 'Jhoda Akbar', 'The Good Doctor']\n"
          ]
        }
      ]
    },
    {
      "cell_type": "markdown",
      "source": [
        "4. Print your original list"
      ],
      "metadata": {
        "id": "3Q0j9HP1Gg23"
      }
    },
    {
      "cell_type": "code",
      "source": [
        "print(showlist)"
      ],
      "metadata": {
        "colab": {
          "base_uri": "https://localhost:8080/"
        },
        "id": "VPehdlK5HbWM",
        "outputId": "094746be-1a00-4f3f-b1c7-f20b46a4d24f"
      },
      "execution_count": 10,
      "outputs": [
        {
          "output_type": "stream",
          "name": "stdout",
          "text": [
            "['Boys over flowers', 'All the Queens Men', 'Jhansi Ki Rani', 'Jhoda Akbar', 'The Good Doctor']\n"
          ]
        }
      ]
    },
    {
      "cell_type": "markdown",
      "source": [
        "5. Use sorted() to print your list in reverse alphabeticl order."
      ],
      "metadata": {
        "id": "shwXlV_yGlQ0"
      }
    },
    {
      "cell_type": "code",
      "source": [
        "print(sorted(showlist,reverse=True))"
      ],
      "metadata": {
        "colab": {
          "base_uri": "https://localhost:8080/"
        },
        "id": "P_YbIZnxHjGb",
        "outputId": "4d279fc7-b977-40a0-fd15-af8def708ae2"
      },
      "execution_count": 14,
      "outputs": [
        {
          "output_type": "stream",
          "name": "stdout",
          "text": [
            "['The Good Doctor', 'Jhoda Akbar', 'Jhansi Ki Rani', 'Boys over flowers', 'All the Queens Men']\n"
          ]
        }
      ]
    },
    {
      "cell_type": "markdown",
      "source": [
        "6. Create a message indicating how many favorite TV shows you have- use the len() function."
      ],
      "metadata": {
        "id": "RHEVNLqZGn1B"
      }
    },
    {
      "cell_type": "code",
      "source": [
        "print(len(showlist))"
      ],
      "metadata": {
        "colab": {
          "base_uri": "https://localhost:8080/"
        },
        "id": "iJpWZr1BI1d6",
        "outputId": "f421863c-0301-4afe-9745-cc602c3599bb"
      },
      "execution_count": 16,
      "outputs": [
        {
          "output_type": "stream",
          "name": "stdout",
          "text": [
            "5\n"
          ]
        }
      ]
    }
  ]
}