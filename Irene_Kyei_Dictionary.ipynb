{
  "nbformat": 4,
  "nbformat_minor": 0,
  "metadata": {
    "colab": {
      "name": "Irene Kyei_Dictionary",
      "provenance": [],
      "authorship_tag": "ABX9TyO5fJf/389WZjLYxodGMdUT",
      "include_colab_link": true
    },
    "kernelspec": {
      "name": "python3",
      "display_name": "Python 3"
    },
    "language_info": {
      "name": "python"
    }
  },
  "cells": [
    {
      "cell_type": "markdown",
      "metadata": {
        "id": "view-in-github",
        "colab_type": "text"
      },
      "source": [
        "<a href=\"https://colab.research.google.com/github/IreneKyei/EverUp_Microcredentials_winter_2022/blob/Python/Irene_Kyei_Dictionary.ipynb\" target=\"_parent\"><img src=\"https://colab.research.google.com/assets/colab-badge.svg\" alt=\"Open In Colab\"/></a>"
      ]
    },
    {
      "cell_type": "markdown",
      "source": [
        "1. Create a simple dictionary that stores 2 variables, for example: first \n",
        "and last name"
      ],
      "metadata": {
        "id": "AoXrBfgXvHzD"
      }
    },
    {
      "cell_type": "code",
      "execution_count": 4,
      "metadata": {
        "id": "pgj50ijKu-49"
      },
      "outputs": [],
      "source": [
        "name={'First_name':'Irene', 'Last_name':'Kyei'}"
      ]
    },
    {
      "cell_type": "markdown",
      "source": [
        "2. Print out those variables stored in your previous dictionary"
      ],
      "metadata": {
        "id": "Ckkp6tg4vG3O"
      }
    },
    {
      "cell_type": "code",
      "source": [
        "print(name['First_name'])\n",
        "print(name['Last_name'])"
      ],
      "metadata": {
        "colab": {
          "base_uri": "https://localhost:8080/"
        },
        "id": "_hpnS4zLwVtX",
        "outputId": "cf426506-da8c-4b68-90a2-06bfed42d4c8"
      },
      "execution_count": 14,
      "outputs": [
        {
          "output_type": "stream",
          "name": "stdout",
          "text": [
            "Irene\n",
            "Kyei\n"
          ]
        }
      ]
    },
    {
      "cell_type": "markdown",
      "source": [
        "3. Add a message to those variables on printing: for example: “Hello, \n",
        "firstname lastname!”"
      ],
      "metadata": {
        "id": "PN2CDI49vVeV"
      }
    },
    {
      "cell_type": "code",
      "source": [
        "name_1=name['First_name']\n",
        "print('Hello '+name_1)"
      ],
      "metadata": {
        "colab": {
          "base_uri": "https://localhost:8080/"
        },
        "id": "cgjbq9WBwWew",
        "outputId": "4e6f890d-81bf-435f-c4a4-a6b2981e2494"
      },
      "execution_count": 15,
      "outputs": [
        {
          "output_type": "stream",
          "name": "stdout",
          "text": [
            "Hello Irene\n"
          ]
        }
      ]
    },
    {
      "cell_type": "markdown",
      "source": [
        "Create a dictionary that holds 2 key: value pairs:\n",
        "a. Look through your dictionary and print each pair,"
      ],
      "metadata": {
        "id": "qvTEoJLlvcv0"
      }
    },
    {
      "cell_type": "code",
      "source": [
        "name['DOB']='04/25/1997'\n",
        "name['Country of residence']='Ghana'\n",
        "name"
      ],
      "metadata": {
        "colab": {
          "base_uri": "https://localhost:8080/"
        },
        "id": "noJJTV6PwXY8",
        "outputId": "fc688579-b2bb-4b20-89d7-4cc51aa5bdef"
      },
      "execution_count": 18,
      "outputs": [
        {
          "output_type": "execute_result",
          "data": {
            "text/plain": [
              "{'Country of residence': 'Ghana',\n",
              " 'DOB': '04/25/1997',\n",
              " 'First_name': 'Irene',\n",
              " 'Last_name': 'Kyei'}"
            ]
          },
          "metadata": {},
          "execution_count": 18
        }
      ]
    },
    {
      "cell_type": "markdown",
      "source": [
        "5. Create a nested dictionary containing three dictionaries – these \n",
        "dictionaries could be anything (favorite pets, travel locations, etc.)\n",
        "a. Loop through the dictionaries and print a message for each."
      ],
      "metadata": {
        "id": "rUyXbCE4v95c"
      }
    },
    {
      "cell_type": "code",
      "source": [
        "my_interests={\n",
        "    'hobbies':'Fixing broken items',\n",
        "    'vacation':'Dubai',\n",
        "    'subject':'Math',\n",
        "    'leisure':'Reading the Bible and watching YouTube videos',\n",
        "    'movies':'The Hobbit and Lord of the Rings trilogy'\n",
        "}\n",
        "for key, value in my_interests.items():\n",
        "  print('\\nKey:'+ key)\n",
        "  print('\\nValue: '+ value)"
      ],
      "metadata": {
        "colab": {
          "base_uri": "https://localhost:8080/"
        },
        "id": "u0zGzVg2wYGV",
        "outputId": "b48a9f9d-d73d-4f66-dfff-59b477083d75"
      },
      "execution_count": 4,
      "outputs": [
        {
          "output_type": "stream",
          "name": "stdout",
          "text": [
            "\n",
            "Key:hobbies\n",
            "\n",
            "Value: Fixing broken items\n",
            "\n",
            "Key:vacation\n",
            "\n",
            "Value: Dubai\n",
            "\n",
            "Key:subject\n",
            "\n",
            "Value: Math\n",
            "\n",
            "Key:leisure\n",
            "\n",
            "Value: Reading the Bible and watching YouTube videos\n",
            "\n",
            "Key:movies\n",
            "\n",
            "Value: The Hobbit and Lord of the Rings trilogy\n"
          ]
        }
      ]
    }
  ]
}