{
  "nbformat": 4,
  "nbformat_minor": 0,
  "metadata": {
    "colab": {
      "name": "Irene Kyei_Lesson 5",
      "provenance": [],
      "collapsed_sections": [],
      "authorship_tag": "ABX9TyPZe89DFU33f8I2O02msIEu",
      "include_colab_link": true
    },
    "kernelspec": {
      "name": "python3",
      "display_name": "Python 3"
    },
    "language_info": {
      "name": "python"
    }
  },
  "cells": [
    {
      "cell_type": "markdown",
      "metadata": {
        "id": "view-in-github",
        "colab_type": "text"
      },
      "source": [
        "<a href=\"https://colab.research.google.com/github/IreneKyei/microcredentials_winter_2022/blob/Python/Irene_Kyei_Lesson_5.ipynb\" target=\"_parent\"><img src=\"https://colab.research.google.com/assets/colab-badge.svg\" alt=\"Open In Colab\"/></a>"
      ]
    },
    {
      "cell_type": "markdown",
      "source": [
        "Lesson 5"
      ],
      "metadata": {
        "id": "ZRr4U0ihTmAi"
      }
    },
    {
      "cell_type": "markdown",
      "source": [
        "1. Make a list of 5 or more usernames, including an admin account. Imagine you are writing a code that will welcome people to your application on login. \n",
        "Loop through the list and print your greeting.\n",
        "  a. If the admin account logs in, give them a special greeting. They're the admin after all.\n",
        "  b. Other users can get the generic greeting."
      ],
      "metadata": {
        "id": "8rxW6QFOTrfR"
      }
    },
    {
      "cell_type": "code",
      "execution_count": 24,
      "metadata": {
        "colab": {
          "base_uri": "https://localhost:8080/"
        },
        "id": "2sYysEikTSGW",
        "outputId": "821a26ce-c4b6-423f-8160-04bbba153440"
      },
      "outputs": [
        {
          "output_type": "stream",
          "name": "stdout",
          "text": [
            "Hello there, welcome back!\n",
            "Hello Boss! Pleased to have you back. Ready to get started?\n",
            "Hello there, welcome back!\n",
            "Hello there, welcome back!\n",
            "Hello there, welcome back!\n",
            "Hello there, welcome back!\n"
          ]
        }
      ],
      "source": [
        "usernames=['ikeyi', 'user1', 'melskibba', 'mattjones', 'lebryant', 'jamfish']\n",
        "for admin in usernames:\n",
        "  if admin== 'user1':\n",
        "    print('Hello Boss! Pleased to have you back. Ready to get started?')\n",
        "  else:\n",
        "    print('Hello there, welcome back!')"
      ]
    },
    {
      "cell_type": "markdown",
      "source": [
        "2. Store numbers 1-10 in a list.\n",
        "  a. Loop through the list.\n",
        "  b. Use an if-elif-else chain inside your loop to print the original ending for each number- for example- 1st, 2nd, 3rd ...etc."
      ],
      "metadata": {
        "id": "IK7FDF1gTkG6"
      }
    },
    {
      "cell_type": "code",
      "source": [
        "numbers=['1','2','3','4','5','6','7','8','9','10']\n",
        "print(numbers)\n",
        "for num in numbers:\n",
        "  if num== '1':               #other nummeric comparisons like '<2' could also be used for this statement\n",
        "    print(str(num)+'st')\n",
        "  #if num== '2:               #Using this code repeated the if statement above in which I received a result with \"1th\"\n",
        "      #print(str(num)+'nd')\n",
        "  elif num== '2':             #Intead, using an elif statement for all other in-betweens before the last statement provides an orderly result.\n",
        "    print(str(num)+'nd')\n",
        "  elif num== '3':\n",
        "    print(str(num)+'rd')\n",
        "  else:\n",
        "    print(str(num)+'th')"
      ],
      "metadata": {
        "colab": {
          "base_uri": "https://localhost:8080/"
        },
        "id": "1t-hB_J3GxW_",
        "outputId": "dfecc73f-e329-4b95-f4d7-8e9a240ae1ea"
      },
      "execution_count": 22,
      "outputs": [
        {
          "output_type": "stream",
          "name": "stdout",
          "text": [
            "['1', '2', '3', '4', '5', '6', '7', '8', '9', '10']\n",
            "1st\n",
            "2nd\n",
            "3rd\n",
            "4th\n",
            "5th\n",
            "6th\n",
            "7th\n",
            "8th\n",
            "9th\n",
            "10th\n"
          ]
        }
      ]
    }
  ]
}